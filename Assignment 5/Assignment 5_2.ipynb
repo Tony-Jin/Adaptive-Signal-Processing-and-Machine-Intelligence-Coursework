{
 "cells": [
  {
   "cell_type": "code",
   "execution_count": 2,
   "metadata": {},
   "outputs": [],
   "source": [
    "%load_ext autoreload\n",
    "%autoreload 2\n",
    "%matplotlib inline"
   ]
  },
  {
   "cell_type": "code",
   "execution_count": 3,
   "metadata": {},
   "outputs": [],
   "source": [
    "import numpy as np\n",
    "import matplotlib.pyplot as plt\n",
    "from hottbox.core import Tensor, TensorCPD, TensorTKD"
   ]
  },
  {
   "cell_type": "markdown",
   "metadata": {
    "toc-hr-collapsed": false
   },
   "source": [
    "[Return to Table of Contents](./0_Table_of_contents.ipynb)"
   ]
  },
  {
   "cell_type": "markdown",
   "metadata": {},
   "source": [
    "# Efficient representation of multidimensional arrays\n",
    "\n",
    "A tensor of order $N$ is said to be of **rank-1** if it can be represented as an outer product of $N$ vectors. \n",
    "\n",
    "The figure below illustrates an example of a rank-1 tensor $\\mathbf{\\underline{X}}$ and provides intuition on how to compute the operation of outer product:\n",
    "\n",
    "<img src=\"./imgs/outerproduct.png\" alt=\"Drawing\" style=\"width: 500px;\"/>\n"
   ]
  },
  {
   "cell_type": "markdown",
   "metadata": {
    "toc-hr-collapsed": false
   },
   "source": [
    "# Kruskal representation\n",
    "\n",
    "For a third order tensor or rank $R$ the Kruskal representation can be expressed as follows:\n",
    "\n",
    "$$\n",
    "\\mathbf{\\underline{X}} = \\sum_{r=1}^R \\mathbf{\\underline{X}}_r = \\sum_{r=1}^R \\lambda_{r} \\cdot \\mathbf{a}_r \\circ \\mathbf{b}_r \\circ \\mathbf{c}_r\n",
    "$$\n",
    "\n",
    "The vectors $\\mathbf{a}_r, \\mathbf{b}_r$ and $\\mathbf{c}_r$ are oftentime combined into the corresponding **factor matrices**:\n",
    "\n",
    "$$\n",
    "\\mathbf{A} = \\Big[ \\mathbf{a}_1 \\cdots \\mathbf{a}_R \\Big] \\quad\n",
    "\\mathbf{B} = \\Big[ \\mathbf{b}_1 \\cdots \\mathbf{b}_R \\Big] \\quad\n",
    "\\mathbf{C} = \\Big[ \\mathbf{c}_1 \\cdots \\mathbf{c}_R \\Big] \\quad\n",
    "$$\n",
    "\n",
    "Thus, if we employ the mode-$n$ product, the **Kruskal representation** takes the form:\n",
    "\n",
    "$$\n",
    "\\mathbf{\\underline{X}} = \\mathbf{\\underline{\\Lambda}} \\times_1 \\mathbf{A} \\times_2 \\mathbf{B} \\times_3 \\mathbf{C} = \\Big[\\mathbf{\\underline{\\Lambda}}; \\mathbf{A}, \\mathbf{B}, \\mathbf{C} \\Big]\n",
    "$$\n",
    "\n",
    "where the elements on the super-diagonal of the core tensor $\\mathbf{\\underline{\\Lambda}}$ are occupied by the values $\\lambda_r$ and all other entries are equal to zero. This can be visualised as shown on figure below:\n",
    "\n",
    "<img src=\"./imgs/TensorCPD.png\" alt=\"Drawing\" style=\"width: 500px;\"/>\n"
   ]
  },
  {
   "cell_type": "code",
   "execution_count": 4,
   "metadata": {},
   "outputs": [
    {
     "name": "stdout",
     "output_type": "stream",
     "text": [
      "Kruskal representation of a tensor with rank=(2,).\n",
      "Factor matrices represent properties: ['mode-0', 'mode-1', 'mode-2']\n",
      "With corresponding latent components described by (3, 4, 5) features respectively.\n"
     ]
    }
   ],
   "source": [
    "# Create factor matrices\n",
    "I, J, K = 3, 4, 5\n",
    "R = 2\n",
    "\n",
    "A = np.arange(I * R).reshape(I, R)\n",
    "B = np.arange(J * R).reshape(J, R)\n",
    "C = np.arange(K * R).reshape(K, R)\n",
    "\n",
    "# Create core values\n",
    "values = np.arange(R)\n",
    "\n",
    "# Create Kruskal representation\n",
    "tensor_cpd = TensorCPD(fmat=[A, B, C], core_values=values)\n",
    "\n",
    "# Result preview\n",
    "print(tensor_cpd)"
   ]
  },
  {
   "cell_type": "markdown",
   "metadata": {},
   "source": [
    "## **Assigment 1**\n",
    "\n",
    "1. What is the order of a tensor if its Kruskal representation consists of 5 factor matrices.\n",
    "\n",
    "2. What is the order of a tensor if its Kruskal representation consists of core tensor which has only 5 elements on the super-diagonal.\n",
    "\n",
    "3. For a 3-rd order tensor that consists of 500 elements, provide three different Kruskal representations.\n",
    "\n",
    "4. For a tensor that consits of 1000 elements, provide three Kruskal representations, each of which should have different number of factor matrices.\n",
    "\n",
    "5. For a 4-th order tensor that consists of 2401 elements, provide Kruskal representation if its core tensor consisting of 81 elements.\n"
   ]
  },
  {
   "cell_type": "markdown",
   "metadata": {},
   "source": [
    "### Solution: Part 1"
   ]
  },
  {
   "cell_type": "code",
   "execution_count": 5,
   "metadata": {},
   "outputs": [
    {
     "name": "stdout",
     "output_type": "stream",
     "text": [
      "\n",
      "The order of a tensor is 5.\n"
     ]
    }
   ],
   "source": [
    "#create the factor matrics\n",
    "I, J, K, M, N = 3, 4, 5, 6, 7\n",
    "R = 2\n",
    "\n",
    "A = np.arange(I * R).reshape(I, R)\n",
    "B = np.arange(J * R).reshape(J, R)\n",
    "C = np.arange(K * R).reshape(K, R)\n",
    "D = np.arange(M * R).reshape(M, R)\n",
    "E = np.arange(N * R).reshape(N, R)\n",
    "\n",
    "# Create core values\n",
    "core1_1 = np.arange(R)\n",
    "\n",
    "# Create Kruskal representation\n",
    "tensor_cpd = TensorCPD(fmat=[A, B, C, D, E], core_values=core1_1)\n",
    "#print(tensor_full)\n",
    "\n",
    "\n",
    "answer_1_1 = tensor_cpd.order  # use this variable for your answer\n",
    "\n",
    "print('\\nThe order of a tensor is {}.'.format(answer_1_1))"
   ]
  },
  {
   "cell_type": "markdown",
   "metadata": {},
   "source": [
    "### Solution: Part 2"
   ]
  },
  {
   "cell_type": "code",
   "execution_count": 6,
   "metadata": {},
   "outputs": [
    {
     "name": "stdout",
     "output_type": "stream",
     "text": [
      "If its Kruskal representation consists of core tensor which has only 5 elements on the super-diagonal\n",
      "\n",
      "the order of a tensor with 3 factor matrices is 3 \n",
      "\n",
      "the order of a tensor with 5 factor matrices is 5 \n",
      "\n",
      "the order of a tensor with 7 factor matrices is 7 \n",
      "\n",
      "The order of a tensor is only relating with the number of the factor matrices of its Kruskal representation\n"
     ]
    }
   ],
   "source": [
    "I, J, K, M, N, P, Q = 3, 4, 5, 6, 7, 8, 9\n",
    "R = 5\n",
    "\n",
    "A = np.arange(I * R).reshape(I, R)\n",
    "B = np.arange(J * R).reshape(J, R)\n",
    "C = np.arange(K * R).reshape(K, R)\n",
    "D = np.arange(M * R).reshape(M, R)\n",
    "E = np.arange(N * R).reshape(N, R)\n",
    "F = np.arange(P * R).reshape(P, R)\n",
    "G = np.arange(Q * R).reshape(Q, R)\n",
    "\n",
    "# Create core values\n",
    "core1_2 = np.arange(R)\n",
    "\n",
    "# Create Kruskal representation\n",
    "tensor_cpd_1 = TensorCPD(fmat=[A, B, C], core_values=core1_2)\n",
    "tensor_cpd_2 = TensorCPD(fmat=[A, B, C, D, E], core_values=core1_2)\n",
    "tensor_cpd_3 = TensorCPD(fmat=[A, B, C, D, E, F, G], core_values=core1_2)\n",
    "# Full representation\n",
    "tensor_full_1 = tensor_cpd_1.reconstruct()\n",
    "tensor_full_2 = tensor_cpd_2.reconstruct()\n",
    "tensor_full_3 = tensor_cpd_3.reconstruct()\n",
    "print('If its Kruskal representation consists of core tensor which has only 5 elements on the super-diagonal')\n",
    "\n",
    "answer_1_2 = tensor_full_1.order  # use this variable for your answer\n",
    "print('\\nthe order of a tensor with 3 factor matrices is {} '.format(answer_1_2))\n",
    "\n",
    "answer_1_2 = tensor_full_2.order  # use this variable for your answer\n",
    "print('\\nthe order of a tensor with 5 factor matrices is {} '.format(answer_1_2))\n",
    "\n",
    "answer_1_2 = tensor_full_3.order  # use this variable for your answer\n",
    "print('\\nthe order of a tensor with 7 factor matrices is {} '.format(answer_1_2))\n",
    "\n",
    "print('\\nThe order of a tensor is only relating with the number of the factor matrices of its Kruskal representation')"
   ]
  },
  {
   "cell_type": "markdown",
   "metadata": {},
   "source": [
    "### Solution: Part 3"
   ]
  },
  {
   "cell_type": "code",
   "execution_count": 15,
   "metadata": {},
   "outputs": [
    {
     "name": "stdout",
     "output_type": "stream",
     "text": [
      "Kruskal representation of a tensor with rank=(5,).\n",
      "Factor matrices represent properties: ['mode-0', 'mode-1', 'mode-2']\n",
      "With corresponding latent components described by (2, 2, 125) features respectively.\n",
      "\n",
      "\n",
      "This tensor is of order 3 and consists of 500 elements.\n",
      "Sizes and names of its modes are (2, 2, 125) and ['mode-0', 'mode-1', 'mode-2'] respectively.\n"
     ]
    }
   ],
   "source": [
    "# First representation\n",
    "I, J, K = 2, 2, 125\n",
    "R = 5\n",
    "\n",
    "A = np.arange(I * R).reshape(I, R)\n",
    "B = np.arange(J * R).reshape(J, R)\n",
    "C = np.arange(K * R).reshape(K, R)\n",
    "\n",
    "# Create core values\n",
    "core_1_3 = np.arange(R)\n",
    "\n",
    "# Create Kruskal representation\n",
    "tensor_cpd_1_3 = TensorCPD(fmat=[A, B, C], core_values=core_1_3)\n",
    "\n",
    "tensor_full_1_3 = tensor_cpd_1_3.reconstruct()\n",
    "\n",
    "# Result preview\n",
    "print(tensor_cpd_1_3)\n",
    "print('\\n')\n",
    "print(tensor_full_1_3)"
   ]
  },
  {
   "cell_type": "code",
   "execution_count": 16,
   "metadata": {},
   "outputs": [
    {
     "name": "stdout",
     "output_type": "stream",
     "text": [
      "Kruskal representation of a tensor with rank=(5,).\n",
      "Factor matrices represent properties: ['mode-0', 'mode-1', 'mode-2']\n",
      "With corresponding latent components described by (4, 5, 25) features respectively.\n",
      "\n",
      "\n",
      "This tensor is of order 3 and consists of 500 elements.\n",
      "Sizes and names of its modes are (4, 5, 25) and ['mode-0', 'mode-1', 'mode-2'] respectively.\n"
     ]
    }
   ],
   "source": [
    "# Second representation\n",
    "I, J, K = 4, 5, 25\n",
    "R = 5\n",
    "\n",
    "A = np.arange(I * R).reshape(I, R)\n",
    "B = np.arange(J * R).reshape(J, R)\n",
    "C = np.arange(K * R).reshape(K, R)\n",
    "\n",
    "# Create core values\n",
    "core_1_3 = np.arange(R)\n",
    "\n",
    "# Create Kruskal representation\n",
    "tensor_cpd_1_3 = TensorCPD(fmat=[A, B, C], core_values=core_1_3)\n",
    "\n",
    "tensor_full_1_3 = tensor_cpd_1_3.reconstruct()\n",
    "\n",
    "# Result preview\n",
    "print(tensor_cpd_1_3)\n",
    "print('\\n')\n",
    "print(tensor_full_1_3)"
   ]
  },
  {
   "cell_type": "code",
   "execution_count": 17,
   "metadata": {},
   "outputs": [
    {
     "name": "stdout",
     "output_type": "stream",
     "text": [
      "Kruskal representation of a tensor with rank=(5,).\n",
      "Factor matrices represent properties: ['mode-0', 'mode-1', 'mode-2']\n",
      "With corresponding latent components described by (5, 10, 10) features respectively.\n",
      "\n",
      "\n",
      "This tensor is of order 3 and consists of 500 elements.\n",
      "Sizes and names of its modes are (5, 10, 10) and ['mode-0', 'mode-1', 'mode-2'] respectively.\n"
     ]
    }
   ],
   "source": [
    "# Third representation\n",
    "I, J, K = 5, 10, 10\n",
    "R = 5\n",
    "\n",
    "A = np.arange(I * R).reshape(I, R)\n",
    "B = np.arange(J * R).reshape(J, R)\n",
    "C = np.arange(K * R).reshape(K, R)\n",
    "\n",
    "# Create core values\n",
    "core_1_3 = np.arange(R)\n",
    "\n",
    "# Create Kruskal representation\n",
    "tensor_cpd_1_3 = TensorCPD(fmat=[A, B, C], core_values=core_1_3)\n",
    "\n",
    "tensor_full_1_3 = tensor_cpd_1_3.reconstruct()\n",
    "\n",
    "# Result preview\n",
    "print(tensor_cpd_1_3)\n",
    "print('\\n')\n",
    "print(tensor_full_1_3)"
   ]
  },
  {
   "cell_type": "markdown",
   "metadata": {
    "toc-hr-collapsed": false
   },
   "source": [
    "### Solution: Part 4"
   ]
  },
  {
   "cell_type": "code",
   "execution_count": 18,
   "metadata": {},
   "outputs": [
    {
     "name": "stdout",
     "output_type": "stream",
     "text": [
      "Kruskal representation of a tensor with rank=(5,).\n",
      "Factor matrices represent properties: ['mode-0', 'mode-1', 'mode-2']\n",
      "With corresponding latent components described by (10, 10, 10) features respectively.\n",
      "\n",
      "\n",
      "This tensor is of order 3 and consists of 1000 elements.\n",
      "Sizes and names of its modes are (10, 10, 10) and ['mode-0', 'mode-1', 'mode-2'] respectively.\n"
     ]
    }
   ],
   "source": [
    "# First representation\n",
    "I, J, K = 10, 10, 10\n",
    "R = 5\n",
    "\n",
    "A = np.arange(I * R).reshape(I, R)\n",
    "B = np.arange(J * R).reshape(J, R)\n",
    "C = np.arange(K * R).reshape(K, R)\n",
    "\n",
    "# Create core values\n",
    "core_1_4 = np.arange(R)\n",
    "\n",
    "# Create Kruskal representation\n",
    "tensor_cpd_1_4 = TensorCPD(fmat=[A, B, C], core_values=core_1_4)\n",
    "\n",
    "tensor_full_1_4 = tensor_cpd_1_4.reconstruct()\n",
    "\n",
    "# Result preview\n",
    "print(tensor_cpd_1_4)\n",
    "print('\\n')\n",
    "print(tensor_full_1_4)"
   ]
  },
  {
   "cell_type": "code",
   "execution_count": 21,
   "metadata": {},
   "outputs": [
    {
     "name": "stdout",
     "output_type": "stream",
     "text": [
      "Kruskal representation of a tensor with rank=(5,).\n",
      "Factor matrices represent properties: ['mode-0', 'mode-1', 'mode-2', 'mode-3']\n",
      "With corresponding latent components described by (5, 5, 5, 8) features respectively.\n",
      "\n",
      "\n",
      "This tensor is of order 4 and consists of 1000 elements.\n",
      "Sizes and names of its modes are (5, 5, 5, 8) and ['mode-0', 'mode-1', 'mode-2', 'mode-3'] respectively.\n"
     ]
    }
   ],
   "source": [
    "# Second representation\n",
    "I, J, K, M = 5, 5, 5, 8\n",
    "R = 5\n",
    "\n",
    "A = np.arange(I * R).reshape(I, R)\n",
    "B = np.arange(J * R).reshape(J, R)\n",
    "C = np.arange(K * R).reshape(K, R)\n",
    "D = np.arange(M * R).reshape(M, R)\n",
    "\n",
    "\n",
    "# Create core values\n",
    "core_1_4 = np.arange(R)\n",
    "\n",
    "# Create Kruskal representation\n",
    "tensor_cpd_1_4 = TensorCPD(fmat=[A, B, C, D], core_values=core_1_4)\n",
    "\n",
    "tensor_full_1_4 = tensor_cpd_1_4.reconstruct()\n",
    "\n",
    "# Result preview\n",
    "print(tensor_cpd_1_4)\n",
    "print('\\n')\n",
    "print(tensor_full_1_4)"
   ]
  },
  {
   "cell_type": "code",
   "execution_count": 22,
   "metadata": {},
   "outputs": [
    {
     "name": "stdout",
     "output_type": "stream",
     "text": [
      "Kruskal representation of a tensor with rank=(5,).\n",
      "Factor matrices represent properties: ['mode-0', 'mode-1', 'mode-2', 'mode-3', 'mode-4']\n",
      "With corresponding latent components described by (2, 5, 5, 5, 4) features respectively.\n",
      "\n",
      "\n",
      "This tensor is of order 5 and consists of 1000 elements.\n",
      "Sizes and names of its modes are (2, 5, 5, 5, 4) and ['mode-0', 'mode-1', 'mode-2', 'mode-3', 'mode-4'] respectively.\n"
     ]
    }
   ],
   "source": [
    "# Third representation\n",
    "I, J, K, M, N = 2, 5, 5, 5, 4\n",
    "R = 5\n",
    "\n",
    "A = np.arange(I * R).reshape(I, R)\n",
    "B = np.arange(J * R).reshape(J, R)\n",
    "C = np.arange(K * R).reshape(K, R)\n",
    "D = np.arange(M * R).reshape(M, R)\n",
    "E = np.arange(N * R).reshape(N, R)\n",
    "\n",
    "\n",
    "# Create core values\n",
    "core_1_4 = np.arange(R)\n",
    "\n",
    "# Create Kruskal representation\n",
    "tensor_cpd_1_4 = TensorCPD(fmat=[A, B, C, D, E], core_values=core_1_4)\n",
    "\n",
    "tensor_full_1_4 = tensor_cpd_1_4.reconstruct()\n",
    "\n",
    "# Result preview\n",
    "print(tensor_cpd_1_4)\n",
    "print('\\n')\n",
    "print(tensor_full_1_4)"
   ]
  },
  {
   "cell_type": "markdown",
   "metadata": {},
   "source": [
    "### Solution: Part 5"
   ]
  },
  {
   "cell_type": "code",
   "execution_count": 26,
   "metadata": {},
   "outputs": [
    {
     "name": "stdout",
     "output_type": "stream",
     "text": [
      "Kruskal representation of a tensor with rank=(81,).\n",
      "Factor matrices represent properties: ['mode-0', 'mode-1', 'mode-2', 'mode-3']\n",
      "With corresponding latent components described by (7, 7, 7, 7) features respectively.\n",
      "\n",
      "\n",
      "This tensor is of order 4 and consists of 2401 elements.\n",
      "Sizes and names of its modes are (7, 7, 7, 7) and ['mode-0', 'mode-1', 'mode-2', 'mode-3'] respectively.\n",
      "\n",
      "Core\n",
      "This tensor is of order 4 and consists of 43046721 elements.\n",
      "Sizes and names of its modes are (81, 81, 81, 81) and ['mode-0', 'mode-1', 'mode-2', 'mode-3'] respectively.\n"
     ]
    }
   ],
   "source": [
    "# Provide Kruskal representation here\n",
    "I, J, K, M = 7, 7, 7, 7\n",
    "R = 81\n",
    "\n",
    "A = np.arange(I * R).reshape(I, R)\n",
    "B = np.arange(J * R).reshape(J, R)\n",
    "C = np.arange(K * R).reshape(K, R)\n",
    "D = np.arange(M * R).reshape(M, R)\n",
    "E = np.arange(N * R).reshape(N, R)\n",
    "\n",
    "\n",
    "# Create core values\n",
    "core_1_5 = np.arange(R)\n",
    "\n",
    "# Create Kruskal representation\n",
    "tensor_cpd_1_5 = TensorCPD(fmat=[A, B, C, D], core_values=core_1_5)\n",
    "\n",
    "tensor_full_1_5 = tensor_cpd_1_5.reconstruct()\n",
    "\n",
    "# Result preview\n",
    "print(tensor_cpd_1_5)\n",
    "print('\\n')\n",
    "print(tensor_full_1_5)\n",
    "print('\\nCore')\n",
    "print(tensor_cpd_1_5.core)"
   ]
  },
  {
   "cell_type": "markdown",
   "metadata": {
    "toc-hr-collapsed": false
   },
   "source": [
    "# Tucker representation\n",
    "\n"
   ]
  },
  {
   "cell_type": "markdown",
   "metadata": {},
   "source": [
    "<img src=\"./imgs/TensorTKD.png\" alt=\"Drawing\" style=\"width: 600px;\"/>\n",
    "\n",
    "For a tensor $\\mathbf{\\underline{X}} \\in \\mathbb{R}^{I \\times J \\times K}$ illustrated above, the **Tucker form** represents the tensor in hand through a dense core tensor $\\mathbf{\\underline{G}}$ with multi-linear rank ($Q, R, P$) and a set of accompanying factor matrices $\\mathbf{A} \\in \\mathbb{R}^{I \\times Q}, \\mathbf{B} \\in \\mathbb{R}^{J \\times R}$ and $\\mathbf{C} \\in \\mathbb{R}^{K \\times P}$.\n",
    "\n",
    "$$\n",
    "\\mathbf{\\underline{X}} = \\sum_{q=1}^Q \\sum_{r=1}^R \\sum_{p=1}^P \\mathbf{\\underline{X}}_{qrp} = \\sum_{q=1}^Q \\sum_{r=1}^R \\sum_{p=1}^P g_{qrp} \\cdot \\mathbf{a}_q \\circ \\mathbf{b}_r \\circ \\mathbf{c}_p\n",
    "$$\n",
    "\n",
    "The Tucker form of a tensor is closely related to the Kruskal representation and can be expressed through a \n",
    "sequence of mode-$n$ products in a similar way, that is\n",
    "\n",
    "$$\n",
    "\\mathbf{\\underline{X}} = \\mathbf{\\underline{G}} \\times_1 \\mathbf{A} \\times_2 \\mathbf{B} \\times_3 \\mathbf{C} = \\Big[\\mathbf{\\underline{G}}; \\mathbf{A}, \\mathbf{B}, \\mathbf{C} \\Big]\n",
    "$$\n"
   ]
  },
  {
   "cell_type": "code",
   "execution_count": 13,
   "metadata": {},
   "outputs": [
    {
     "name": "stdout",
     "output_type": "stream",
     "text": [
      "Tucker representation of a tensor with multi-linear rank=(2, 3, 4).\n",
      "Factor matrices represent properties: ['mode-0', 'mode-1', 'mode-2']\n",
      "With corresponding latent components described by (5, 6, 7) features respectively.\n"
     ]
    }
   ],
   "source": [
    "# Create factor matrices\n",
    "I, J, K = 5, 6, 7  # define shape of the tensor in full form\n",
    "Q, R, P = 2, 3, 4  # define multi-linear rank of the tensor in Tucker form\n",
    "\n",
    "A = np.arange(I * Q).reshape(I, Q)\n",
    "B = np.arange(J * R).reshape(J, R)\n",
    "C = np.arange(K * P).reshape(K, P)\n",
    "\n",
    "# Create core values\n",
    "values = np.arange(Q * R * P).reshape(Q, R, P)\n",
    "\n",
    "# Create Tucker representation\n",
    "tensor_tkd = TensorTKD(fmat=[A, B, C], core_values=values)\n",
    "\n",
    "# Result preview\n",
    "print(tensor_tkd)"
   ]
  },
  {
   "cell_type": "markdown",
   "metadata": {},
   "source": [
    "## **Assigment 2**\n",
    "\n",
    "1. Core tensor of a Tucker representation consists of 1848 elements. Explain what tensor order should a tensor have to able to be represented in such form.\n",
    "\n",
    "2. For a 4-th order tensor that consists of 1000 elements, provide three different Tucker representations.\n",
    "\n",
    "3. For a 3-rd order tensor that consists of 500 elements, provide three different Tucker representations given that its core tensor consists of 42 elements.\n",
    "\n",
    "4. Provide an intuition behind the main difference between the Tucker and Kruskal representations.\n"
   ]
  },
  {
   "cell_type": "markdown",
   "metadata": {},
   "source": [
    "### Solution: Part 1"
   ]
  },
  {
   "cell_type": "code",
   "execution_count": 30,
   "metadata": {},
   "outputs": [
    {
     "name": "stdout",
     "output_type": "stream",
     "text": [
      "Tucker representation of a tensor with multi-linear rank=(2, 3, 2, 2, 7, 11).\n",
      "Factor matrices represent properties: ['mode-0', 'mode-1', 'mode-2', 'mode-3', 'mode-4', 'mode-5']\n",
      "With corresponding latent components described by (5, 6, 7, 8, 9, 10) features respectively.\n",
      "\n",
      "\n",
      "This tensor is of order 6 and consists of 151200 elements.\n",
      "Sizes and names of its modes are (5, 6, 7, 8, 9, 10) and ['mode-0', 'mode-1', 'mode-2', 'mode-3', 'mode-4', 'mode-5'] respectively.\n",
      "\n",
      "Core:\n",
      "This tensor is of order 6 and consists of 1848 elements.\n",
      "Sizes and names of its modes are (2, 3, 2, 2, 7, 11) and ['mode-0', 'mode-1', 'mode-2', 'mode-3', 'mode-4', 'mode-5'] respectively.\n",
      "\n",
      "The order should be 6\n"
     ]
    }
   ],
   "source": [
    "I, J, K, L, M, N = 5, 6, 7, 8, 9, 10  # define shape of the tensor in full form\n",
    "P, Q, R, S, T, U = 2, 3, 2, 2, 7, 11  # define multi-linear rank of the tensor in Tucker form\n",
    "\n",
    "A = np.arange(I * P).reshape(I, P)\n",
    "B = np.arange(J * Q).reshape(J, Q)\n",
    "C = np.arange(K * R).reshape(K, R)\n",
    "D = np.arange(L * S).reshape(L, S)\n",
    "E = np.arange(M * T).reshape(M, T)\n",
    "F = np.arange(N * U).reshape(N, U)\n",
    "\n",
    "# Create core values\n",
    "core_2_1 = np.arange(P * Q * R * S * T * U).reshape(P, Q, R, S, T, U)\n",
    "\n",
    "# Create Tucker representation\n",
    "tensor_tkd_2_1 = TensorTKD(fmat=[A, B, C, D, E, F], core_values=core_2_1)\n",
    "\n",
    "tensor_full_2_1 = tensor_tkd_2_1.reconstruct()\n",
    "answer_2_1 = tensor_full_2_1.order\n",
    "# Result preview\n",
    "print(tensor_tkd_2_1)\n",
    "print(\"\\n\")\n",
    "print(tensor_full_2_1)\n",
    "print(\"\\nCore:\")\n",
    "print(tensor_tkd_2_1.core)\n",
    "print(\"\\nThe order should be {}\".format(answer_2_1))\n"
   ]
  },
  {
   "cell_type": "markdown",
   "metadata": {},
   "source": [
    "Because the prime factorization of 1848 is $2\\times 2\\times 2\\times 3\\times 7\\times 11$. The maximum order of the tensor whose core tensor of Tucker representation consists of 1848 elements is 6. "
   ]
  },
  {
   "cell_type": "markdown",
   "metadata": {},
   "source": [
    "### Solution: Part 2"
   ]
  },
  {
   "cell_type": "code",
   "execution_count": 32,
   "metadata": {},
   "outputs": [
    {
     "name": "stdout",
     "output_type": "stream",
     "text": [
      "Tucker representation of a tensor with multi-linear rank=(2, 3, 4, 5).\n",
      "Factor matrices represent properties: ['mode-0', 'mode-1', 'mode-2', 'mode-3']\n",
      "With corresponding latent components described by (2, 5, 10, 10) features respectively.\n",
      "\n",
      "\n",
      "This tensor is of order 4 and consists of 1000 elements.\n",
      "Sizes and names of its modes are (2, 5, 10, 10) and ['mode-0', 'mode-1', 'mode-2', 'mode-3'] respectively.\n"
     ]
    }
   ],
   "source": [
    "# First representation\n",
    "I, J, K, L = 2, 5, 10, 10  # define shape of the tensor in full form\n",
    "P, Q, R, S = 2, 3, 4, 5  # define multi-linear rank of the tensor in Tucker form\n",
    "\n",
    "A = np.arange(I * P).reshape(I, P)\n",
    "B = np.arange(J * Q).reshape(J, Q)\n",
    "C = np.arange(K * R).reshape(K, R)\n",
    "D = np.arange(L * S).reshape(L, S)\n",
    "\n",
    "# Create core values\n",
    "core_2_2 = np.arange(P * Q * R * S).reshape(P, Q, R, S)\n",
    "\n",
    "# Create Tucker representation\n",
    "tensor_tkd_2_2 = TensorTKD(fmat=[A, B, C, D], core_values=core_2_2)\n",
    "\n",
    "# Result preview\n",
    "print(tensor_tkd_2_2)\n",
    "tensor_full_2_2 = tensor_tkd_2_2.reconstruct()\n",
    "print(\"\\n\")\n",
    "print(tensor_full_2_2)"
   ]
  },
  {
   "cell_type": "code",
   "execution_count": 33,
   "metadata": {},
   "outputs": [
    {
     "name": "stdout",
     "output_type": "stream",
     "text": [
      "Tucker representation of a tensor with multi-linear rank=(2, 3, 4, 5).\n",
      "Factor matrices represent properties: ['mode-0', 'mode-1', 'mode-2', 'mode-3']\n",
      "With corresponding latent components described by (4, 5, 5, 10) features respectively.\n",
      "\n",
      "\n",
      "This tensor is of order 4 and consists of 1000 elements.\n",
      "Sizes and names of its modes are (4, 5, 5, 10) and ['mode-0', 'mode-1', 'mode-2', 'mode-3'] respectively.\n"
     ]
    }
   ],
   "source": [
    "# Second representation\n",
    "I, J, K, L = 4, 5, 5, 10  # define shape of the tensor in full form\n",
    "P, Q, R, S = 2, 3, 4, 5  # define multi-linear rank of the tensor in Tucker form\n",
    "\n",
    "A = np.arange(I * P).reshape(I, P)\n",
    "B = np.arange(J * Q).reshape(J, Q)\n",
    "C = np.arange(K * R).reshape(K, R)\n",
    "D = np.arange(L * S).reshape(L, S)\n",
    "\n",
    "# Create core values\n",
    "core_2_2 = np.arange(P * Q * R * S).reshape(P, Q, R, S)\n",
    "\n",
    "# Create Tucker representation\n",
    "tensor_tkd_2_2 = TensorTKD(fmat=[A, B, C, D], core_values=core_2_2)\n",
    "\n",
    "# Result preview\n",
    "print(tensor_tkd_2_2)\n",
    "tensor_full_2_2 = tensor_tkd_2_2.reconstruct()\n",
    "print(\"\\n\")\n",
    "print(tensor_full_2_2)"
   ]
  },
  {
   "cell_type": "code",
   "execution_count": 34,
   "metadata": {},
   "outputs": [
    {
     "name": "stdout",
     "output_type": "stream",
     "text": [
      "Tucker representation of a tensor with multi-linear rank=(2, 3, 4, 5).\n",
      "Factor matrices represent properties: ['mode-0', 'mode-1', 'mode-2', 'mode-3']\n",
      "With corresponding latent components described by (8, 5, 5, 5) features respectively.\n",
      "\n",
      "\n",
      "This tensor is of order 4 and consists of 1000 elements.\n",
      "Sizes and names of its modes are (8, 5, 5, 5) and ['mode-0', 'mode-1', 'mode-2', 'mode-3'] respectively.\n"
     ]
    }
   ],
   "source": [
    "# Third representation\n",
    "I, J, K, L = 8, 5, 5, 5  # define shape of the tensor in full form\n",
    "P, Q, R, S = 2, 3, 4, 5  # define multi-linear rank of the tensor in Tucker form\n",
    "\n",
    "A = np.arange(I * P).reshape(I, P)\n",
    "B = np.arange(J * Q).reshape(J, Q)\n",
    "C = np.arange(K * R).reshape(K, R)\n",
    "D = np.arange(L * S).reshape(L, S)\n",
    "\n",
    "# Create core values\n",
    "core_2_2 = np.arange(P * Q * R * S).reshape(P, Q, R, S)\n",
    "\n",
    "# Create Tucker representation\n",
    "tensor_tkd_2_2 = TensorTKD(fmat=[A, B, C, D], core_values=core_2_2)\n",
    "\n",
    "# Result preview\n",
    "print(tensor_tkd_2_2)\n",
    "tensor_full_2_2 = tensor_tkd_2_2.reconstruct()\n",
    "print(\"\\n\")\n",
    "print(tensor_full_2_2)"
   ]
  },
  {
   "cell_type": "markdown",
   "metadata": {},
   "source": [
    "### Solution: Part 3"
   ]
  },
  {
   "cell_type": "code",
   "execution_count": 36,
   "metadata": {},
   "outputs": [
    {
     "name": "stdout",
     "output_type": "stream",
     "text": [
      "Tucker representation of a tensor with multi-linear rank=(2, 3, 7).\n",
      "Factor matrices represent properties: ['mode-0', 'mode-1', 'mode-2']\n",
      "With corresponding latent components described by (10, 5, 5) features respectively.\n",
      "\n",
      "\n",
      "This tensor is of order 3 and consists of 250 elements.\n",
      "Sizes and names of its modes are (10, 5, 5) and ['mode-0', 'mode-1', 'mode-2'] respectively.\n",
      "\n",
      "Core:\n",
      "This tensor is of order 3 and consists of 42 elements.\n",
      "Sizes and names of its modes are (2, 3, 7) and ['mode-0', 'mode-1', 'mode-2'] respectively.\n"
     ]
    }
   ],
   "source": [
    "# First representation\n",
    "I, J, K = 10, 5, 5  # define shape of the tensor in full form\n",
    "P, Q, R = 2, 3, 7  # define multi-linear rank of the tensor in Tucker form\n",
    "\n",
    "A = np.arange(I * P).reshape(I, P)\n",
    "B = np.arange(J * Q).reshape(J, Q)\n",
    "C = np.arange(K * R).reshape(K, R)\n",
    "\n",
    "# Create core values\n",
    "core_2_3 = np.arange(P * Q * R).reshape(P, Q, R)\n",
    "\n",
    "# Create Tucker representation\n",
    "tensor_tkd_2_3 = TensorTKD(fmat=[A, B, C], core_values=core_2_3)\n",
    "\n",
    "# Result preview\n",
    "print(tensor_tkd_2_3)\n",
    "tensor_full_2_3 = tensor_tkd_2_3.reconstruct()\n",
    "print(\"\\n\")\n",
    "print(tensor_full_2_3)\n",
    "print(\"\\nCore:\")\n",
    "print(tensor_tkd_2_3.core)"
   ]
  },
  {
   "cell_type": "code",
   "execution_count": 37,
   "metadata": {},
   "outputs": [
    {
     "name": "stdout",
     "output_type": "stream",
     "text": [
      "Tucker representation of a tensor with multi-linear rank=(2, 3, 7).\n",
      "Factor matrices represent properties: ['mode-0', 'mode-1', 'mode-2']\n",
      "With corresponding latent components described by (2, 10, 25) features respectively.\n",
      "\n",
      "\n",
      "This tensor is of order 3 and consists of 500 elements.\n",
      "Sizes and names of its modes are (2, 10, 25) and ['mode-0', 'mode-1', 'mode-2'] respectively.\n",
      "\n",
      "Core:\n",
      "This tensor is of order 3 and consists of 42 elements.\n",
      "Sizes and names of its modes are (2, 3, 7) and ['mode-0', 'mode-1', 'mode-2'] respectively.\n"
     ]
    }
   ],
   "source": [
    "# Second representation\n",
    "I, J, K = 2, 10, 25  # define shape of the tensor in full form\n",
    "P, Q, R = 2, 3, 7  # define multi-linear rank of the tensor in Tucker form\n",
    "\n",
    "A = np.arange(I * P).reshape(I, P)\n",
    "B = np.arange(J * Q).reshape(J, Q)\n",
    "C = np.arange(K * R).reshape(K, R)\n",
    "\n",
    "# Create core values\n",
    "core_2_3 = np.arange(P * Q * R).reshape(P, Q, R)\n",
    "\n",
    "# Create Tucker representation\n",
    "tensor_tkd_2_3 = TensorTKD(fmat=[A, B, C], core_values=core_2_3)\n",
    "\n",
    "# Result preview\n",
    "print(tensor_tkd_2_3)\n",
    "tensor_full_2_3 = tensor_tkd_2_3.reconstruct()\n",
    "print(\"\\n\")\n",
    "print(tensor_full_2_3)\n",
    "print(\"\\nCore:\")\n",
    "print(tensor_tkd_2_3.core)"
   ]
  },
  {
   "cell_type": "code",
   "execution_count": 38,
   "metadata": {},
   "outputs": [
    {
     "name": "stdout",
     "output_type": "stream",
     "text": [
      "Tucker representation of a tensor with multi-linear rank=(2, 3, 7).\n",
      "Factor matrices represent properties: ['mode-0', 'mode-1', 'mode-2']\n",
      "With corresponding latent components described by (4, 5, 25) features respectively.\n",
      "\n",
      "\n",
      "This tensor is of order 3 and consists of 500 elements.\n",
      "Sizes and names of its modes are (4, 5, 25) and ['mode-0', 'mode-1', 'mode-2'] respectively.\n",
      "\n",
      "Core:\n",
      "This tensor is of order 3 and consists of 42 elements.\n",
      "Sizes and names of its modes are (2, 3, 7) and ['mode-0', 'mode-1', 'mode-2'] respectively.\n"
     ]
    }
   ],
   "source": [
    "# Third representation\n",
    "I, J, K = 4, 5, 25  # define shape of the tensor in full form\n",
    "P, Q, R = 2, 3, 7  # define multi-linear rank of the tensor in Tucker form\n",
    "\n",
    "A = np.arange(I * P).reshape(I, P)\n",
    "B = np.arange(J * Q).reshape(J, Q)\n",
    "C = np.arange(K * R).reshape(K, R)\n",
    "\n",
    "# Create core values\n",
    "core_2_3 = np.arange(P * Q * R).reshape(P, Q, R)\n",
    "\n",
    "# Create Tucker representation\n",
    "tensor_tkd_2_3 = TensorTKD(fmat=[A, B, C], core_values=core_2_3)\n",
    "\n",
    "# Result preview\n",
    "print(tensor_tkd_2_3)\n",
    "tensor_full_2_3 = tensor_tkd_2_3.reconstruct()\n",
    "print(\"\\n\")\n",
    "print(tensor_full_2_3)\n",
    "print(\"\\nCore:\")\n",
    "print(tensor_tkd_2_3.core)"
   ]
  },
  {
   "cell_type": "markdown",
   "metadata": {},
   "source": [
    "### Solution: Part 4"
   ]
  },
  {
   "cell_type": "code",
   "execution_count": 41,
   "metadata": {},
   "outputs": [
    {
     "name": "stdout",
     "output_type": "stream",
     "text": [
      "The main difference between the Tucker and Kruskal representations are based on the core tensor\n",
      "In the Kruskal representation, the size of dimensions of core tensor should keep same, while in the Tucker representation, the dimensions of core tensor can be differnt values.\n",
      "Thus, the Kruskal representation is a special case of Tucker representation\n"
     ]
    }
   ],
   "source": [
    "answer_2_4_1 = \"The main difference between the Tucker and Kruskal representations are based on the core tensor\\n\"\n",
    "answer_2_4_2 = \"In the Kruskal representation, the size of dimensions of core tensor should keep same, while in the Tucker representation, the dimensions of core tensor can be differnt values.\"\n",
    "answer_2_4_3 = \"\\nThus, the Kruskal representation is a special case of Tucker representation\"\n",
    "answer_2_4 = answer_2_4_1+answer_2_4_2+answer_2_4_3\n",
    "print(answer_2_4)"
   ]
  },
  {
   "cell_type": "code",
   "execution_count": null,
   "metadata": {},
   "outputs": [],
   "source": []
  }
 ],
 "metadata": {
  "kernelspec": {
   "display_name": "dpm-coursework",
   "language": "python",
   "name": "dpm-coursework"
  },
  "language_info": {
   "codemirror_mode": {
    "name": "ipython",
    "version": 3
   },
   "file_extension": ".py",
   "mimetype": "text/x-python",
   "name": "python",
   "nbconvert_exporter": "python",
   "pygments_lexer": "ipython3",
   "version": "3.7.2"
  },
  "toc-autonumbering": false,
  "toc-showcode": false
 },
 "nbformat": 4,
 "nbformat_minor": 2
}
