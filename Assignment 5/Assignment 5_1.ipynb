{
 "cells": [
  {
   "cell_type": "code",
   "execution_count": 2,
   "metadata": {},
   "outputs": [],
   "source": [
    "%load_ext autoreload\n",
    "%autoreload 2\n",
    "%matplotlib inline"
   ]
  },
  {
   "cell_type": "code",
   "execution_count": 3,
   "metadata": {},
   "outputs": [],
   "source": [
    "import numpy as np\n",
    "import matplotlib.pyplot as plt\n",
    "from hottbox.core import Tensor"
   ]
  },
  {
   "cell_type": "markdown",
   "metadata": {
    "toc-hr-collapsed": false
   },
   "source": [
    "[Return to Table of Contents](./0_Table_of_contents.ipynb)"
   ]
  },
  {
   "cell_type": "markdown",
   "metadata": {
    "toc-hr-collapsed": false
   },
   "source": [
    "# Tensors and basic operations"
   ]
  },
  {
   "cell_type": "markdown",
   "metadata": {
    "toc-hr-collapsed": true
   },
   "source": [
    "<img src=\"./imgs/tensors_dogs.jpg\" alt=\"Drawing\" style=\"width: 500px;\"/>\n",
    "\n",
    "A tensor is a multi-dimenaional array of data where each dimension is conventionally referred to as the **mode**. Tensor order is defined by the number of its modes which is equivivalent to the number of indices required to identify a particular entry of a multi-dimensional array. For ease of visualisation and compact notation, we consider a third order tensor $\\mathbf{\\underline{X}} \\in \\mathbb{R}^{I \\times J \\times K}$. Thus, an element of such a tensor, $\\mathbf{\\underline{X}} \\in \\mathbb{R}^{I \\times J \\times K}$, can be written in a general form as:\n",
    "\n",
    "$$ x_{ijk} = \\mathbf{\\underline{X}}[i, j, k]$$\n",
    "\n",
    "> **Note:** In order to be consistent with Python indexing, count of modes and elements within starts from zeros.\n",
    "\n",
    "Creation of a tensor starts with a formation of a multidimensional array of data."
   ]
  },
  {
   "cell_type": "code",
   "execution_count": 4,
   "metadata": {},
   "outputs": [
    {
     "name": "stdout",
     "output_type": "stream",
     "text": [
      "This tensor is of order 3 and consists of 24 elements.\n",
      "Sizes and names of its modes are (2, 3, 4) and ['mode-0', 'mode-1', 'mode-2'] respectively.\n"
     ]
    },
    {
     "data": {
      "text/plain": [
       "array([[[ 0,  1,  2,  3],\n",
       "        [ 4,  5,  6,  7],\n",
       "        [ 8,  9, 10, 11]],\n",
       "\n",
       "       [[12, 13, 14, 15],\n",
       "        [16, 17, 18, 19],\n",
       "        [20, 21, 22, 23]]])"
      ]
     },
     "execution_count": 4,
     "metadata": {},
     "output_type": "execute_result"
    }
   ],
   "source": [
    "# Create 3-d array of data\n",
    "size = np.array([2,3,4])\n",
    "array_3d = np.arange(24).reshape(size)\n",
    "\n",
    "# Create tensor\n",
    "tensor = Tensor(array_3d)\n",
    "\n",
    "# Result preview\n",
    "print(tensor)\n",
    "tensor.data"
   ]
  },
  {
   "cell_type": "markdown",
   "metadata": {
    "toc-hr-collapsed": true
   },
   "source": [
    "## **Assigment 1**\n",
    "\n",
    "1. Create a tensor of order 5 (of any shape) and with all its values equal to 5. Then, calculate its Frobenious norm. \n",
    "2. Construct several tensors of orders varying from 3 to 20, with the size of each dimension equal to 2. Plot the relation between an order of a tensor and the number of its elements.\n",
    "3. Construct several tensors of order 3 with the size of each dimension varying from 3 to 15. Plot the relation between the size of dimensions of a tensor and the number of its elements.\n",
    "4. Analyse and compare the so obtained graphs."
   ]
  },
  {
   "cell_type": "markdown",
   "metadata": {},
   "source": [
    "### Solution: Part 1"
   ]
  },
  {
   "cell_type": "code",
   "execution_count": 5,
   "metadata": {},
   "outputs": [],
   "source": [
    "# Create a tensor\n",
    "array_5d = np.ones(720).reshape((2, 3, 4, 5, 6))\n",
    "array_5d = array_5d*5\n",
    "# Create tensor\n",
    "tensor1 = Tensor(array_5d)"
   ]
  },
  {
   "cell_type": "code",
   "execution_count": 6,
   "metadata": {},
   "outputs": [
    {
     "name": "stdout",
     "output_type": "stream",
     "text": [
      "Frobenious norm: 134.164\n"
     ]
    }
   ],
   "source": [
    "# Calculate Frobenious norm\n",
    "print('Frobenious norm: {:.3f}'.format(tensor1.frob_norm))"
   ]
  },
  {
   "cell_type": "markdown",
   "metadata": {},
   "source": [
    "### Solution: Part 2"
   ]
  },
  {
   "cell_type": "code",
   "execution_count": 7,
   "metadata": {},
   "outputs": [],
   "source": [
    "# Create tensors and collect information\n",
    "num = 8\n",
    "size = (2,2,2)\n",
    "add_s = (2,)\n",
    "order = np.ones(18)\n",
    "num_element = np.ones(18)\n",
    "for o in range(3,21):\n",
    "    array_create = np.ones(num).reshape(size)\n",
    "    tensor_create = Tensor(array_create)\n",
    "    size = size + add_s\n",
    "    num = num*2\n",
    "    order[o-3] = tensor_create.order\n",
    "    num_element[o-3] = tensor_create.size"
   ]
  },
  {
   "cell_type": "code",
   "execution_count": 8,
   "metadata": {},
   "outputs": [
    {
     "data": {
      "image/png": "[encoded data removed]",
      "text/plain": [
       "<Figure size 432x288 with 1 Axes>"
      ]
     },
     "metadata": {
      "needs_background": "light"
     },
     "output_type": "display_data"
    }
   ],
   "source": [
    "# Plot results\n",
    "fig, ax = plt.subplots()\n",
    "ax.plot(order, num_element)\n",
    "ax.set(xlabel='order', ylabel='Number of element')\n",
    "plt.xlim(3,20)\n",
    "ax.grid()\n",
    "plt.show()"
   ]
  },
  {
   "cell_type": "markdown",
   "metadata": {},
   "source": [
    "### Solution: Part 3"
   ]
  },
  {
   "cell_type": "code",
   "execution_count": 9,
   "metadata": {},
   "outputs": [],
   "source": [
    "# Create tensors and collect information\n",
    "size = np.array([3,3,3])\n",
    "num_element = np.ones(13)\n",
    "for s in range(3,16):\n",
    "    num = s**3\n",
    "    array_create = np.ones(num).reshape(size)\n",
    "    tensor_create = Tensor(array_create)\n",
    "    size = size + 1 \n",
    "    num_element[s-3] = tensor_create.size"
   ]
  },
  {
   "cell_type": "code",
   "execution_count": 10,
   "metadata": {},
   "outputs": [
    {
     "data": {
      "image/png": "[encoded data removed]",
      "text/plain": [
       "<Figure size 432x288 with 1 Axes>"
      ]
     },
     "metadata": {
      "needs_background": "light"
     },
     "output_type": "display_data"
    }
   ],
   "source": [
    "# Plot results\n",
    "size_dim = np.arange(3,16)\n",
    "fig, ax = plt.subplots()\n",
    "ax.plot(size_dim, num_element)\n",
    "ax.set(xlabel='size', ylabel='Number of element')\n",
    "#plt.xlim(3,20)\n",
    "ax.grid()\n",
    "plt.show()"
   ]
  },
  {
   "cell_type": "markdown",
   "metadata": {},
   "source": [
    "### Solution: Part 4"
   ]
  },
  {
   "cell_type": "markdown",
   "metadata": {},
   "source": [
    "In the part 2, the size of each dimension is 2 and the number of dimensions increase from 3 to 20. The relationship between the number of elements with the order of the tensor is 2^n. In the part 3, the number of dimensions keeps 3, while the size of each dimentsion varies from 3 to 15. The relationship between them is m^3. The number of elements of tensor can be decided by m^n, if all the dimenstions of the tensor have same size."
   ]
  },
  {
   "cell_type": "markdown",
   "metadata": {
    "toc-hr-collapsed": false
   },
   "source": [
    "# Most common tensor substructures\n",
    "<img src=\"./imgs/tensor_substructures.png\" alt=\"Drawing\" style=\"width: 500px;\"/>\n",
    "\n",
    "1. A **fiber** is a vector obtained by fixing all but one of the indices, e.g.  $\\mathbf{\\underline{X}}[i,:,k]$ is the mode-2 fiber $\\mathbf{\\underline{X}}$ (usually refered to as row fiber). \n",
    "\n",
    "1. Fixing all but two of the indices yields a matrix called a **slice** of a tensor, e.g. $\\mathbf{\\underline{X}}[:,:,k]$ is the mode-[1,2] slice (usually refered to as the frontal slice).\n",
    "\n",
    "**Note:** The same principles and definitions can be applied to a tensor of an arbitrarily large order. In addition, you can obtain a **subtensor** by fixing at least three indices and letting the remaining ones vary."
   ]
  },
  {
   "cell_type": "code",
   "execution_count": 11,
   "metadata": {},
   "outputs": [
    {
     "data": {
      "text/plain": [
       "array([4, 5, 6, 7])"
      ]
     },
     "execution_count": 11,
     "metadata": {},
     "output_type": "execute_result"
    }
   ],
   "source": [
    "# Mode-2 fiber\n",
    "tensor.data[0,1,:]"
   ]
  },
  {
   "cell_type": "code",
   "execution_count": 12,
   "metadata": {},
   "outputs": [
    {
     "data": {
      "text/plain": [
       "array([[ 0,  1,  2,  3],\n",
       "       [ 4,  5,  6,  7],\n",
       "       [ 8,  9, 10, 11]])"
      ]
     },
     "execution_count": 12,
     "metadata": {},
     "output_type": "execute_result"
    }
   ],
   "source": [
    "# Frontal slice\n",
    "tensor.data[0,:,:]"
   ]
  },
  {
   "cell_type": "markdown",
   "metadata": {
    "toc-hr-collapsed": true
   },
   "source": [
    "## **Assigment 2**\n",
    "\n",
    "1. Create a tensor of order 4 which consists of 81 elements and display all its horizontal slices and any five row fibers.\n",
    "2. Create a tensor of order 3 and shape `(4,2,5)`, where the values of each consequent frontal slice are doubled."
   ]
  },
  {
   "cell_type": "markdown",
   "metadata": {},
   "source": [
    "### Solution: Part 1"
   ]
  },
  {
   "cell_type": "code",
   "execution_count": 18,
   "metadata": {},
   "outputs": [
    {
     "name": "stdout",
     "output_type": "stream",
     "text": [
      "This tensor is of order 4 and consists of 81 elements.\n",
      "Sizes and names of its modes are (3, 3, 3, 3) and ['mode-0', 'mode-1', 'mode-2', 'mode-3'] respectively.\n"
     ]
    }
   ],
   "source": [
    "# Create a tensor of order 4\n",
    "size = np.array([3,3,3,3])\n",
    "array_ass2 = np.arange(81).reshape(size)\n",
    "tensor_ass2 = Tensor(array_ass2)\n",
    "print(tensor_ass2)"
   ]
  },
  {
   "cell_type": "code",
   "execution_count": 27,
   "metadata": {},
   "outputs": [
    {
     "name": "stdout",
     "output_type": "stream",
     "text": [
      "[[ 0  3  6]\n",
      " [ 9 12 15]\n",
      " [18 21 24]]\n",
      "[[27 30 33]\n",
      " [36 39 42]\n",
      " [45 48 51]]\n",
      "[[54 57 60]\n",
      " [63 66 69]\n",
      " [72 75 78]]\n",
      "[[ 1  4  7]\n",
      " [10 13 16]\n",
      " [19 22 25]]\n",
      "[[28 31 34]\n",
      " [37 40 43]\n",
      " [46 49 52]]\n",
      "[[55 58 61]\n",
      " [64 67 70]\n",
      " [73 76 79]]\n",
      "[[ 2  5  8]\n",
      " [11 14 17]\n",
      " [20 23 26]]\n",
      "[[29 32 35]\n",
      " [38 41 44]\n",
      " [47 50 53]]\n",
      "[[56 59 62]\n",
      " [65 68 71]\n",
      " [74 77 80]]\n"
     ]
    }
   ],
   "source": [
    "# Display slices\n",
    "for i in range(3):\n",
    "    for j in range(3):\n",
    "        slice_ass2 = tensor_ass2.data[j,:,:,i]\n",
    "        print(slice_ass2)"
   ]
  },
  {
   "cell_type": "code",
   "execution_count": 32,
   "metadata": {},
   "outputs": [
    {
     "name": "stdout",
     "output_type": "stream",
     "text": [
      "[ 4 13 22]\n",
      "[31 40 49]\n",
      "[58 67 76]\n",
      "[ 7 16 25]\n",
      "[34 43 52]\n"
     ]
    }
   ],
   "source": [
    "# Display fibers\n",
    "for i in range(3):\n",
    "    fiber_ass2 = tensor_ass2.data[i,:,1,1]\n",
    "    print(fiber_ass2)\n",
    "for i in range(2):\n",
    "    fiber_ass2 = tensor_ass2.data[i,:,2,1]\n",
    "    print(fiber_ass2)"
   ]
  },
  {
   "cell_type": "markdown",
   "metadata": {},
   "source": [
    "### Solution: Part 2"
   ]
  },
  {
   "cell_type": "code",
   "execution_count": 34,
   "metadata": {},
   "outputs": [
    {
     "name": "stdout",
     "output_type": "stream",
     "text": [
      "This tensor is of order 3 and consists of 40 elements.\n",
      "Sizes and names of its modes are (4, 2, 5) and ['mode-0', 'mode-1', 'mode-2'] respectively.\n",
      "[[1. 1.]\n",
      " [1. 1.]\n",
      " [1. 1.]\n",
      " [1. 1.]]\n",
      "[[2. 2.]\n",
      " [2. 2.]\n",
      " [2. 2.]\n",
      " [2. 2.]]\n",
      "[[4. 4.]\n",
      " [4. 4.]\n",
      " [4. 4.]\n",
      " [4. 4.]]\n",
      "[[8. 8.]\n",
      " [8. 8.]\n",
      " [8. 8.]\n",
      " [8. 8.]]\n",
      "[[16. 16.]\n",
      " [16. 16.]\n",
      " [16. 16.]\n",
      " [16. 16.]]\n"
     ]
    }
   ],
   "source": [
    "# Create a tensor of order 3\n",
    "size = np.array([4,2,5])\n",
    "array_ass2_2 = np.ones(40).reshape(size)\n",
    "for i in range(1,5):\n",
    "    array_ass2_2[:,:,i] = 2*array_ass2_2[:,:,i-1]\n",
    "tensor_ass2_2 = Tensor(array_ass2_2)\n",
    "print(tensor_ass2_2)\n",
    "for ii in range(5):\n",
    "    fiber_ass2_2 = tensor_ass2_2.data[:,:,ii]\n",
    "    print(fiber_ass2_2)"
   ]
  },
  {
   "cell_type": "markdown",
   "metadata": {
    "toc-hr-collapsed": false
   },
   "source": [
    "# Unfolding\n",
    "\n",
    "Conventionally, unfolding is considered to be a process of element mapping from a tensor to a matrix. In other words, it arranges the mode-$n$ fibers of a tensor to be the matrix columns. Thus, the mode-$n$ unfolding is denoted as:\n",
    "\n",
    "$$\\mathbf{\\underline{A}} \\xrightarrow{n} \\mathbf{A}_{(n)}$$\n",
    "\n",
    "Thus, this operations requires to specify a mode along which a tensor will be unfolded. For a third order tensor, a visual representation of such operation is as following\n",
    "\n",
    "<img src=\"./imgs/unfolding.png\" alt=\"Drawing\" style=\"width: 600px;\"/>\n",
    "\n",
    "In `hottbox` this functionality is available through the corresponding methods of the `Tensor` object, for instance:"
   ]
  },
  {
   "cell_type": "code",
   "execution_count": 35,
   "metadata": {},
   "outputs": [
    {
     "name": "stdout",
     "output_type": "stream",
     "text": [
      "This tensor is of order 2 and consists of 24 elements.\n",
      "Sizes and names of its modes are (2, 12) and ['mode-0', 'mode-1_mode-2'] respectively.\n"
     ]
    },
    {
     "data": {
      "text/plain": [
       "array([[ 0,  1,  2,  3,  4,  5,  6,  7,  8,  9, 10, 11],\n",
       "       [12, 13, 14, 15, 16, 17, 18, 19, 20, 21, 22, 23]])"
      ]
     },
     "execution_count": 35,
     "metadata": {},
     "output_type": "execute_result"
    }
   ],
   "source": [
    "# Create 3-d array of data\n",
    "array_3d = np.arange(24).reshape((2, 3, 4))\n",
    "\n",
    "# Create tensor\n",
    "tensor = Tensor(array_3d)\n",
    "\n",
    "# Unfolding of a tensor\n",
    "tensor.unfold(mode=0)\n",
    "\n",
    "# Result preview\n",
    "print(tensor)\n",
    "tensor.data"
   ]
  },
  {
   "cell_type": "markdown",
   "metadata": {
    "toc-hr-collapsed": true
   },
   "source": [
    "## **Assigment 3**\n",
    "\n",
    "1. Create a tensor, $\\mathbf{\\underline{A}}$, of order 4, in such a way that its version unfolded along the second mode would have sizes `(5,72)`, that is $\\mathbf{A}_{(n)} \\in  \\mathbb{R}^{5 \\times 72}$. Validate your results by displaying the unfolded tensor."
   ]
  },
  {
   "cell_type": "markdown",
   "metadata": {},
   "source": [
    "### Solution : Part 1"
   ]
  },
  {
   "cell_type": "code",
   "execution_count": 36,
   "metadata": {},
   "outputs": [
    {
     "data": {
      "text/plain": [
       "This tensor is of order 2 and consists of 360 elements.\n",
       "Sizes and names of its modes are (5, 72) and ['mode-1', 'mode-0_mode-2_mode-3'] respectively."
      ]
     },
     "execution_count": 36,
     "metadata": {},
     "output_type": "execute_result"
    }
   ],
   "source": [
    "# Create a tensor\n",
    "array_ass3 = np.arange(360).reshape((6, 5, 4, 3))\n",
    "tensor_ass3 = Tensor(array_ass3)"
   ]
  },
  {
   "cell_type": "code",
   "execution_count": 38,
   "metadata": {},
   "outputs": [
    {
     "name": "stdout",
     "output_type": "stream",
     "text": [
      "This tensor is of order 2 and consists of 360 elements.\n",
      "Sizes and names of its modes are (5, 72) and ['mode-1', 'mode-0_mode-2_mode-3'] respectively.\n"
     ]
    },
    {
     "data": {
      "text/plain": [
       "array([[  0,   1,   2,   3,   4,   5,   6,   7,   8,   9,  10,  11,  60,\n",
       "         61,  62,  63,  64,  65,  66,  67,  68,  69,  70,  71, 120, 121,\n",
       "        122, 123, 124, 125, 126, 127, 128, 129, 130, 131, 180, 181, 182,\n",
       "        183, 184, 185, 186, 187, 188, 189, 190, 191, 240, 241, 242, 243,\n",
       "        244, 245, 246, 247, 248, 249, 250, 251, 300, 301, 302, 303, 304,\n",
       "        305, 306, 307, 308, 309, 310, 311],\n",
       "       [ 12,  13,  14,  15,  16,  17,  18,  19,  20,  21,  22,  23,  72,\n",
       "         73,  74,  75,  76,  77,  78,  79,  80,  81,  82,  83, 132, 133,\n",
       "        134, 135, 136, 137, 138, 139, 140, 141, 142, 143, 192, 193, 194,\n",
       "        195, 196, 197, 198, 199, 200, 201, 202, 203, 252, 253, 254, 255,\n",
       "        256, 257, 258, 259, 260, 261, 262, 263, 312, 313, 314, 315, 316,\n",
       "        317, 318, 319, 320, 321, 322, 323],\n",
       "       [ 24,  25,  26,  27,  28,  29,  30,  31,  32,  33,  34,  35,  84,\n",
       "         85,  86,  87,  88,  89,  90,  91,  92,  93,  94,  95, 144, 145,\n",
       "        146, 147, 148, 149, 150, 151, 152, 153, 154, 155, 204, 205, 206,\n",
       "        207, 208, 209, 210, 211, 212, 213, 214, 215, 264, 265, 266, 267,\n",
       "        268, 269, 270, 271, 272, 273, 274, 275, 324, 325, 326, 327, 328,\n",
       "        329, 330, 331, 332, 333, 334, 335],\n",
       "       [ 36,  37,  38,  39,  40,  41,  42,  43,  44,  45,  46,  47,  96,\n",
       "         97,  98,  99, 100, 101, 102, 103, 104, 105, 106, 107, 156, 157,\n",
       "        158, 159, 160, 161, 162, 163, 164, 165, 166, 167, 216, 217, 218,\n",
       "        219, 220, 221, 222, 223, 224, 225, 226, 227, 276, 277, 278, 279,\n",
       "        280, 281, 282, 283, 284, 285, 286, 287, 336, 337, 338, 339, 340,\n",
       "        341, 342, 343, 344, 345, 346, 347],\n",
       "       [ 48,  49,  50,  51,  52,  53,  54,  55,  56,  57,  58,  59, 108,\n",
       "        109, 110, 111, 112, 113, 114, 115, 116, 117, 118, 119, 168, 169,\n",
       "        170, 171, 172, 173, 174, 175, 176, 177, 178, 179, 228, 229, 230,\n",
       "        231, 232, 233, 234, 235, 236, 237, 238, 239, 288, 289, 290, 291,\n",
       "        292, 293, 294, 295, 296, 297, 298, 299, 348, 349, 350, 351, 352,\n",
       "        353, 354, 355, 356, 357, 358, 359]])"
      ]
     },
     "execution_count": 38,
     "metadata": {},
     "output_type": "execute_result"
    }
   ],
   "source": [
    "# Display unfolded version\n",
    "tensor_ass3.unfold(mode=1)\n",
    "print(tensor_ass3)\n",
    "tensor_ass3.data"
   ]
  },
  {
   "cell_type": "markdown",
   "metadata": {
    "toc-hr-collapsed": false
   },
   "source": [
    "# Mode-n product \n",
    "<img src=\"./imgs/mode_n_product.png\" alt=\"Drawing\" style=\"width: 600px;\"/>\n",
    "\n",
    "The mode-$n$ product is a multiplication of a tensor  by a matrix along the $n^{th}$ mode of a tensor. This essentially means that each mode-$n$ fiber should be multiplied by this matrix. Mathematically, this can be expressed as:\n",
    "\n",
    "$$\\mathbf{\\underline{X}} \\times_n \\mathbf{A} = \\mathbf{\\underline{Y}} \\quad \\Leftrightarrow  \\quad \\mathbf{Y}_{(n)} = \\mathbf{A} \\mathbf{X}_{(n)}  $$"
   ]
  },
  {
   "cell_type": "code",
   "execution_count": 19,
   "metadata": {},
   "outputs": [
    {
     "name": "stdout",
     "output_type": "stream",
     "text": [
      "This tensor is of order 3 and consists of 40 elements.\n",
      "Sizes and names of its modes are (2, 5, 4) and ['mode-0', 'mode-1', 'mode-2'] respectively.\n"
     ]
    },
    {
     "data": {
      "text/plain": [
       "array([[ 20,  23,  26,  29,  56,  59,  62,  65],\n",
       "       [ 56,  68,  80,  92, 200, 212, 224, 236],\n",
       "       [ 92, 113, 134, 155, 344, 365, 386, 407],\n",
       "       [128, 158, 188, 218, 488, 518, 548, 578],\n",
       "       [164, 203, 242, 281, 632, 671, 710, 749]])"
      ]
     },
     "execution_count": 19,
     "metadata": {},
     "output_type": "execute_result"
    }
   ],
   "source": [
    "I, J, K = 2, 3, 4\n",
    "J_new = 5\n",
    "\n",
    "# Create tensor\n",
    "array_3d = np.arange(I * J * K).reshape(I, J ,K)\n",
    "X = Tensor(array_3d)\n",
    "\n",
    "# Create matrix\n",
    "A = np.arange(J_new * J).reshape(J_new, J)\n",
    "\n",
    "# Performs Mode-n product \n",
    "Y = X.mode_n_product(A, mode=1, inplace=False)\n",
    "\n",
    "# Preview of resulting tensor\n",
    "print(Y)\n",
    "\n",
    "# Preview of its unfolded version\n",
    "Y.unfold(mode=1, inplace=False).data"
   ]
  },
  {
   "cell_type": "markdown",
   "metadata": {
    "toc-hr-collapsed": true
   },
   "source": [
    "## **Assignment 4**\n",
    "\n",
    "1. Perform the mode-$n$ product of a 3-rd order tensor, $\\mathbf{\\underline{X}}$, with a matrix, $\\mathbf{A} \\in  \\mathbb{R}^{5 \\times 4}$, provided that the resulting tensor, $\\mathbf{\\underline{Y}}$, consists of `100` elements. Validate your results. \n",
    "\n",
    "> **Note:** You are encouraged to experiment with the optional parameter `inplace` and to investigate its effect on the result."
   ]
  },
  {
   "cell_type": "markdown",
   "metadata": {},
   "source": [
    "### Solution: Part 1"
   ]
  },
  {
   "cell_type": "code",
   "execution_count": 49,
   "metadata": {},
   "outputs": [
    {
     "name": "stdout",
     "output_type": "stream",
     "text": [
      "This tensor is of order 3 and consists of 80 elements.\n",
      "Sizes and names of its modes are (5, 4, 4) and ['mode-0', 'mode-1', 'mode-2'] respectively.\n"
     ]
    },
    {
     "data": {
      "text/plain": [
       "array([[[ 0,  1,  2,  3],\n",
       "        [ 4,  5,  6,  7],\n",
       "        [ 8,  9, 10, 11],\n",
       "        [12, 13, 14, 15]],\n",
       "\n",
       "       [[16, 17, 18, 19],\n",
       "        [20, 21, 22, 23],\n",
       "        [24, 25, 26, 27],\n",
       "        [28, 29, 30, 31]],\n",
       "\n",
       "       [[32, 33, 34, 35],\n",
       "        [36, 37, 38, 39],\n",
       "        [40, 41, 42, 43],\n",
       "        [44, 45, 46, 47]],\n",
       "\n",
       "       [[48, 49, 50, 51],\n",
       "        [52, 53, 54, 55],\n",
       "        [56, 57, 58, 59],\n",
       "        [60, 61, 62, 63]],\n",
       "\n",
       "       [[64, 65, 66, 67],\n",
       "        [68, 69, 70, 71],\n",
       "        [72, 73, 74, 75],\n",
       "        [76, 77, 78, 79]]])"
      ]
     },
     "execution_count": 49,
     "metadata": {},
     "output_type": "execute_result"
    }
   ],
   "source": [
    "# Create original tensor \n",
    "I, J, K = 5, 4, 4\n",
    "array_ass4 = np.arange(I * J * K).reshape(I, J ,K)\n",
    "X_ass4 = Tensor(array_ass4)\n",
    "print(X_ass4)\n",
    "X_ass4.data"
   ]
  },
  {
   "cell_type": "code",
   "execution_count": 50,
   "metadata": {},
   "outputs": [],
   "source": [
    "# Create matrix\n",
    "K_new = 5;\n",
    "A_ass4 = np.arange(K_new*K).reshape(K_new,K)"
   ]
  },
  {
   "cell_type": "code",
   "execution_count": 51,
   "metadata": {},
   "outputs": [],
   "source": [
    "# Perform mode-n product \n",
    "Y_ass4_1 = X_ass4.mode_n_product(A_ass4, mode=2, inplace=False)\n",
    "Y_ass4_2 = X_ass4.mode_n_product(A_ass4, mode=2, inplace=True)"
   ]
  },
  {
   "cell_type": "code",
   "execution_count": 52,
   "metadata": {},
   "outputs": [
    {
     "name": "stdout",
     "output_type": "stream",
     "text": [
      "This tensor is of order 3 and consists of 100 elements.\n",
      "Sizes and names of its modes are (5, 4, 5) and ['mode-0', 'mode-1', 'mode-2'] respectively.\n",
      "Inplace is False: The tensor Y is [[[  14   38   62   86  110]\n",
      "  [  38  126  214  302  390]\n",
      "  [  62  214  366  518  670]\n",
      "  [  86  302  518  734  950]]\n",
      "\n",
      " [[ 110  390  670  950 1230]\n",
      "  [ 134  478  822 1166 1510]\n",
      "  [ 158  566  974 1382 1790]\n",
      "  [ 182  654 1126 1598 2070]]\n",
      "\n",
      " [[ 206  742 1278 1814 2350]\n",
      "  [ 230  830 1430 2030 2630]\n",
      "  [ 254  918 1582 2246 2910]\n",
      "  [ 278 1006 1734 2462 3190]]\n",
      "\n",
      " [[ 302 1094 1886 2678 3470]\n",
      "  [ 326 1182 2038 2894 3750]\n",
      "  [ 350 1270 2190 3110 4030]\n",
      "  [ 374 1358 2342 3326 4310]]\n",
      "\n",
      " [[ 398 1446 2494 3542 4590]\n",
      "  [ 422 1534 2646 3758 4870]\n",
      "  [ 446 1622 2798 3974 5150]\n",
      "  [ 470 1710 2950 4190 5430]]]\n",
      "This tensor is of order 3 and consists of 100 elements.\n",
      "Sizes and names of its modes are (5, 4, 5) and ['mode-0', 'mode-1', 'mode-2'] respectively.\n",
      "Inplace is True: The tensor Y is [[[  14   38   62   86  110]\n",
      "  [  38  126  214  302  390]\n",
      "  [  62  214  366  518  670]\n",
      "  [  86  302  518  734  950]]\n",
      "\n",
      " [[ 110  390  670  950 1230]\n",
      "  [ 134  478  822 1166 1510]\n",
      "  [ 158  566  974 1382 1790]\n",
      "  [ 182  654 1126 1598 2070]]\n",
      "\n",
      " [[ 206  742 1278 1814 2350]\n",
      "  [ 230  830 1430 2030 2630]\n",
      "  [ 254  918 1582 2246 2910]\n",
      "  [ 278 1006 1734 2462 3190]]\n",
      "\n",
      " [[ 302 1094 1886 2678 3470]\n",
      "  [ 326 1182 2038 2894 3750]\n",
      "  [ 350 1270 2190 3110 4030]\n",
      "  [ 374 1358 2342 3326 4310]]\n",
      "\n",
      " [[ 398 1446 2494 3542 4590]\n",
      "  [ 422 1534 2646 3758 4870]\n",
      "  [ 446 1622 2798 3974 5150]\n",
      "  [ 470 1710 2950 4190 5430]]]\n"
     ]
    }
   ],
   "source": [
    "# Validate equivalence between the left and right hand side\n",
    "# Left side\n",
    "print(Y_ass4_1)\n",
    "print('Inplace is False: The tensor Y is {}'.format(Y_ass4_1.data))\n",
    "# Right side\n",
    "print(Y_ass4_2)\n",
    "print('Inplace is True: The tensor Y is {}'.format(Y_ass4_2.data))"
   ]
  },
  {
   "cell_type": "markdown",
   "metadata": {},
   "source": [
    "# Properties of mode-n product\n",
    "\n",
    "1. For distinct modes in a series of multiplications, the order of the multiplication is irrelevent: \n",
    "\n",
    "    $$\\mathbf{\\underline{X}} \\times_n \\mathbf{A} \\times_m \\mathbf{B} = \\mathbf{\\underline{X}} \\times_m \\mathbf{B} \\times_n \\mathbf{A} \\quad (m \\neq n)$$\n",
    "\n",
    "1. However, this does not hold if the modes are the same :\n",
    "\n",
    "    $$\\mathbf{\\underline{X}} \\times_n \\mathbf{A} \\times_n \\mathbf{B} = \\mathbf{\\underline{X}} \\times_n (\\mathbf{B}\\mathbf{A})$$"
   ]
  },
  {
   "cell_type": "markdown",
   "metadata": {
    "toc-hr-collapsed": true
   },
   "source": [
    "## **Assignment 5**\n",
    "\n",
    "1. Validate both of the above properties empirically \n",
    "2. Prove the second property analytically\n",
    "\n",
    "> **Note:** Be aware of consequences of the optional parameter `inplace` (its default value is set to `True`)."
   ]
  },
  {
   "cell_type": "markdown",
   "metadata": {},
   "source": [
    "### Solution: Part 1"
   ]
  },
  {
   "cell_type": "code",
   "execution_count": 67,
   "metadata": {},
   "outputs": [
    {
     "name": "stdout",
     "output_type": "stream",
     "text": [
      "This tensor is of order 3 and consists of 24 elements.\n",
      "Sizes and names of its modes are (2, 3, 4) and ['mode-0', 'mode-1', 'mode-2'] respectively.\n"
     ]
    },
    {
     "data": {
      "text/plain": [
       "array([[[ 0,  1,  2,  3],\n",
       "        [ 4,  5,  6,  7],\n",
       "        [ 8,  9, 10, 11]],\n",
       "\n",
       "       [[12, 13, 14, 15],\n",
       "        [16, 17, 18, 19],\n",
       "        [20, 21, 22, 23]]])"
      ]
     },
     "execution_count": 67,
     "metadata": {},
     "output_type": "execute_result"
    }
   ],
   "source": [
    "# Create tensor\n",
    "I, J, K = 2, 3, 4\n",
    "array_ass5 = np.arange(I * J * K).reshape(I, J ,K)\n",
    "X_ass5 = Tensor(array_ass5)\n",
    "print(X_ass5)\n",
    "X_ass5.data"
   ]
  },
  {
   "cell_type": "code",
   "execution_count": 70,
   "metadata": {},
   "outputs": [],
   "source": [
    "# Create matrices\n",
    "I1_new = 4\n",
    "I2_new = 5\n",
    "J_new = 5\n",
    "A1 = np.arange(I1_new*I).reshape(I1_new,I)\n",
    "B2 = np.arange(I2_new*I1_new).reshape(I2_new,I1_new)\n",
    "B1 = np.arange(J_new*J).reshape(J_new,J)"
   ]
  },
  {
   "cell_type": "code",
   "execution_count": 71,
   "metadata": {},
   "outputs": [
    {
     "name": "stdout",
     "output_type": "stream",
     "text": [
      "This tensor is of order 3 and consists of 80 elements.\n",
      "Sizes and names of its modes are (4, 5, 4) and ['mode-0', 'mode-1', 'mode-2'] respectively.\n",
      "The left side: The tensor Y is [[[  14   38   62   86  110]\n",
      "  [  38  126  214  302  390]\n",
      "  [  62  214  366  518  670]\n",
      "  [  86  302  518  734  950]]\n",
      "\n",
      " [[ 110  390  670  950 1230]\n",
      "  [ 134  478  822 1166 1510]\n",
      "  [ 158  566  974 1382 1790]\n",
      "  [ 182  654 1126 1598 2070]]\n",
      "\n",
      " [[ 206  742 1278 1814 2350]\n",
      "  [ 230  830 1430 2030 2630]\n",
      "  [ 254  918 1582 2246 2910]\n",
      "  [ 278 1006 1734 2462 3190]]\n",
      "\n",
      " [[ 302 1094 1886 2678 3470]\n",
      "  [ 326 1182 2038 2894 3750]\n",
      "  [ 350 1270 2190 3110 4030]\n",
      "  [ 374 1358 2342 3326 4310]]\n",
      "\n",
      " [[ 398 1446 2494 3542 4590]\n",
      "  [ 422 1534 2646 3758 4870]\n",
      "  [ 446 1622 2798 3974 5150]\n",
      "  [ 470 1710 2950 4190 5430]]]\n",
      "This tensor is of order 3 and consists of 80 elements.\n",
      "Sizes and names of its modes are (4, 5, 4) and ['mode-0', 'mode-1', 'mode-2'] respectively.\n",
      "The right side: The tensor Y is [[[  14   38   62   86  110]\n",
      "  [  38  126  214  302  390]\n",
      "  [  62  214  366  518  670]\n",
      "  [  86  302  518  734  950]]\n",
      "\n",
      " [[ 110  390  670  950 1230]\n",
      "  [ 134  478  822 1166 1510]\n",
      "  [ 158  566  974 1382 1790]\n",
      "  [ 182  654 1126 1598 2070]]\n",
      "\n",
      " [[ 206  742 1278 1814 2350]\n",
      "  [ 230  830 1430 2030 2630]\n",
      "  [ 254  918 1582 2246 2910]\n",
      "  [ 278 1006 1734 2462 3190]]\n",
      "\n",
      " [[ 302 1094 1886 2678 3470]\n",
      "  [ 326 1182 2038 2894 3750]\n",
      "  [ 350 1270 2190 3110 4030]\n",
      "  [ 374 1358 2342 3326 4310]]\n",
      "\n",
      " [[ 398 1446 2494 3542 4590]\n",
      "  [ 422 1534 2646 3758 4870]\n",
      "  [ 446 1622 2798 3974 5150]\n",
      "  [ 470 1710 2950 4190 5430]]]\n"
     ]
    }
   ],
   "source": [
    "# Validate property 1\n",
    "Y_ass5_1 = X_ass5.mode_n_product(A1, mode=0, inplace=False)\n",
    "Z_ass5_1 = Y_ass5_1.mode_n_product(B1, mode=1, inplace=False)\n",
    "\n",
    "Y_ass5_2 = X_ass5.mode_n_product(B1, mode=1, inplace=False)\n",
    "Z_ass5_2 = Y_ass5_2.mode_n_product(A1, mode=0, inplace=False)\n",
    "\n",
    "print(Z_ass5_1)\n",
    "print('The left side: The tensor Y is {}'.format(Y_ass4_1.data))\n",
    "print(Z_ass5_2)\n",
    "print('The right side: The tensor Y is {}'.format(Y_ass4_2.data))"
   ]
  },
  {
   "cell_type": "code",
   "execution_count": 72,
   "metadata": {},
   "outputs": [
    {
     "name": "stdout",
     "output_type": "stream",
     "text": [
      "This tensor is of order 3 and consists of 60 elements.\n",
      "Sizes and names of its modes are (5, 3, 4) and ['mode-0', 'mode-1', 'mode-2'] respectively.\n",
      "The left side: The tensor Y is [[[ 408  470  532  594]\n",
      "  [ 656  718  780  842]\n",
      "  [ 904  966 1028 1090]]\n",
      "\n",
      " [[1176 1350 1524 1698]\n",
      "  [1872 2046 2220 2394]\n",
      "  [2568 2742 2916 3090]]\n",
      "\n",
      " [[1944 2230 2516 2802]\n",
      "  [3088 3374 3660 3946]\n",
      "  [4232 4518 4804 5090]]\n",
      "\n",
      " [[2712 3110 3508 3906]\n",
      "  [4304 4702 5100 5498]\n",
      "  [5896 6294 6692 7090]]\n",
      "\n",
      " [[3480 3990 4500 5010]\n",
      "  [5520 6030 6540 7050]\n",
      "  [7560 8070 8580 9090]]]\n",
      "This tensor is of order 3 and consists of 60 elements.\n",
      "Sizes and names of its modes are (5, 3, 4) and ['mode-0', 'mode-1', 'mode-2'] respectively.\n",
      "The right side: The tensor Y is [[[ 408  470  532  594]\n",
      "  [ 656  718  780  842]\n",
      "  [ 904  966 1028 1090]]\n",
      "\n",
      " [[1176 1350 1524 1698]\n",
      "  [1872 2046 2220 2394]\n",
      "  [2568 2742 2916 3090]]\n",
      "\n",
      " [[1944 2230 2516 2802]\n",
      "  [3088 3374 3660 3946]\n",
      "  [4232 4518 4804 5090]]\n",
      "\n",
      " [[2712 3110 3508 3906]\n",
      "  [4304 4702 5100 5498]\n",
      "  [5896 6294 6692 7090]]\n",
      "\n",
      " [[3480 3990 4500 5010]\n",
      "  [5520 6030 6540 7050]\n",
      "  [7560 8070 8580 9090]]]\n"
     ]
    }
   ],
   "source": [
    "# Validate property 2\n",
    "Y_ass5_3 = X_ass5.mode_n_product(A1, mode=0, inplace=False)\n",
    "Z_ass5_3 = Y_ass5_3.mode_n_product(B2, mode=0, inplace=False)\n",
    "\n",
    "#Y_ass5_4 = X_ass5.mode_n_product(B1, mode=0, inplace=False)\n",
    "Z_ass5_4 = X_ass5.mode_n_product(np.dot(B2,A1), mode=0, inplace=False)\n",
    "\n",
    "print(Z_ass5_3)\n",
    "print('The left side: The tensor Y is {}'.format(Z_ass5_3.data))\n",
    "print(Z_ass5_4)\n",
    "print('The right side: The tensor Y is {}'.format(Z_ass5_4.data))"
   ]
  },
  {
   "cell_type": "markdown",
   "metadata": {
    "toc-hr-collapsed": true
   },
   "source": [
    "### Solution: Part 2\n",
    "\n",
    "Use [LaTeX syntax](https://stackoverflow.com/questions/13208286/how-to-write-latex-in-ipython-notebook) for analytical deriviations for the second property below.\n"
   ]
  },
  {
   "cell_type": "code",
   "execution_count": 1,
   "metadata": {},
   "outputs": [
    {
     "data": {
      "text/latex": [
       "Define the original tensor $\\mathbf{X}\\in \\mathbb{R}^{I_1\\times I_2\\times ...\\times I_N}$ and $A\\in \\mathbb{R}^{J\\times I_n}$ and $B\\in \\mathbb{R}^{K\\times I_n}$. The left side of the second property is\n",
       "\\begin{equation}\n",
       "\\mathbf{X}\\times _{n}A\\times _{n}B\n",
       "\\end{equation}\n",
       "This formula can be calculated in two steps.\n",
       "\\begin{equation}\n",
       "\\mathbf{Y}=\\mathbf{X}\\times _{n}A\\\\\n",
       "\\mathbf{y}_{i_1 i_2 ... i_{n-1}\\;ji_{n+1}\\; ... i_N}=\\sum_{i_n=1}^{I_n}x_{i_1 i_2 ... i_N}a_{j i_n}\n",
       "\\end{equation}\n",
       "While $j$ is from $0$ to $J-1$, $y$ is an element of $Y$ and $x$ is an element of $X$.\n",
       "\\begin{equation}\n",
       "\\mathbf{Z}=\\mathbf{Y}\\times _{n}B\\\\\n",
       "\\mathbf{z}_{i_1 i_2 ... i_{n-1}\\;ki_{n+1}\\; ... i_N}=\\sum_{j=1}^{J}y_{i_1 i_2 ... i_N}b_{k i_n}\n",
       "=\\sum_{j=1}^{J}\\sum_{i_n=1}^{I_n}x_{i_1 i_2 ... i_N}a_{j i_n}b_{k i_n}\n",
       "\\end{equation}\n",
       "As for the right side of the second property is\n",
       "\\begin{equation}\n",
       "\\mathbf{X}\\times _{n}(BA)\n",
       "\\end{equation}\n",
       "Firstly, the production result of matrxi B and A will be calculated.\n",
       "\\begin{equation}\n",
       "\\mathbf{C}=(BA)\\\\\n",
       "\\mathbf{c}_{k i_n} = \\sum_{j=1}^{J}b_{k j}a_{j i_n}\n",
       "\\end{equation}\n",
       "Then the result is\n",
       "\\begin{equation}\n",
       "\\mathbf{Z}=\\mathbf{X}\\times C\\\\\n",
       "\\mathbf{z}_{i_1 i_2 ... i_{n-1}\\;ki_{n+1}\\; ... i_N}= \\sum_{i_n=1}^{I_n}x_{i_1 i_2 ... i_N}c_{k i_n}\\\\\n",
       "\\mathbf{z}_{i_1 i_2 ... i_{n-1}\\;ki_{n+1}\\; ... i_N}=\\sum_{j=1}^{J}y_{i_1 i_2 ... i_N}b_{k i_n}\n",
       "=\\sum_{j=1}^{J}\\sum_{i_n=1}^{I_n}x_{i_1 i_2 ... i_N}a_{j i_n}b_{k i_n}\n",
       "\\end{equation}\n",
       "Hence, the left side of the second property is equal to the right side.\n"
      ],
      "text/plain": [
       "<IPython.core.display.Latex object>"
      ]
     },
     "metadata": {},
     "output_type": "display_data"
    }
   ],
   "source": [
    "%%latex\n",
    "Define the original tensor $\\mathbf{X}\\in \\mathbb{R}^{I_1\\times I_2\\times ...\\times I_N}$ and $A\\in \\mathbb{R}^{J\\times I_n}$ and $B\\in \\mathbb{R}^{K\\times I_n}$. The left side of the second property is\n",
    "\\begin{equation}\n",
    "\\mathbf{X}\\times _{n}A\\times _{n}B\n",
    "\\end{equation}\n",
    "This formula can be calculated in two steps.\n",
    "\\begin{equation}\n",
    "\\mathbf{Y}=\\mathbf{X}\\times _{n}A\\\\\n",
    "\\mathbf{y}_{i_1 i_2 ... i_{n-1}\\;ji_{n+1}\\; ... i_N}=\\sum_{i_n=1}^{I_n}x_{i_1 i_2 ... i_N}a_{j i_n}\n",
    "\\end{equation}\n",
    "While $j$ is from $0$ to $J-1$, $y$ is an element of $Y$ and $x$ is an element of $X$.\n",
    "\\begin{equation}\n",
    "\\mathbf{Z}=\\mathbf{Y}\\times _{n}B\\\\\n",
    "\\mathbf{z}_{i_1 i_2 ... i_{n-1}\\;ki_{n+1}\\; ... i_N}=\\sum_{j=1}^{J}y_{i_1 i_2 ... i_N}b_{k i_n}\n",
    "=\\sum_{j=1}^{J}\\sum_{i_n=1}^{I_n}x_{i_1 i_2 ... i_N}a_{j i_n}b_{k i_n}\n",
    "\\end{equation}\n",
    "As for the right side of the second property is\n",
    "\\begin{equation}\n",
    "\\mathbf{X}\\times _{n}(BA)\n",
    "\\end{equation}\n",
    "Firstly, the production result of matrxi B and A will be calculated.\n",
    "\\begin{equation}\n",
    "\\mathbf{C}=(BA)\\\\\n",
    "\\mathbf{c}_{k i_n} = \\sum_{j=1}^{J}b_{k j}a_{j i_n}\n",
    "\\end{equation}\n",
    "Then the result is\n",
    "\\begin{equation}\n",
    "\\mathbf{Z}=\\mathbf{X}\\times C\\\\\n",
    "\\mathbf{z}_{i_1 i_2 ... i_{n-1}\\;ki_{n+1}\\; ... i_N}= \\sum_{i_n=1}^{I_n}x_{i_1 i_2 ... i_N}c_{k i_n}\\\\\n",
    "\\mathbf{z}_{i_1 i_2 ... i_{n-1}\\;ki_{n+1}\\; ... i_N}=\\sum_{j=1}^{J}y_{i_1 i_2 ... i_N}b_{k i_n}\n",
    "=\\sum_{j=1}^{J}\\sum_{i_n=1}^{I_n}x_{i_1 i_2 ... i_N}a_{j i_n}b_{k i_n}\n",
    "\\end{equation}\n",
    "Hence, the left side of the second property is equal to the right side."
   ]
  },
  {
   "cell_type": "code",
   "execution_count": null,
   "metadata": {},
   "outputs": [],
   "source": []
  }
 ],
 "metadata": {
  "kernelspec": {
   "display_name": "dpm-coursework",
   "language": "python",
   "name": "dpm-coursework"
  },
  "language_info": {
   "codemirror_mode": {
    "name": "ipython",
    "version": 3
   },
   "file_extension": ".py",
   "mimetype": "text/x-python",
   "name": "python",
   "nbconvert_exporter": "python",
   "pygments_lexer": "ipython3",
   "version": "3.7.2"
  },
  "toc-autonumbering": false,
  "toc-showcode": false,
  "toc-showmarkdowntxt": false
 },
 "nbformat": 4,
 "nbformat_minor": 2
}
